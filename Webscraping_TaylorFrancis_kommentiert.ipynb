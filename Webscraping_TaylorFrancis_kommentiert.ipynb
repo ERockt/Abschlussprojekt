{
 "cells": [
  {
   "cell_type": "code",
   "execution_count": null,
   "id": "63cde56d-6144-419f-b1f6-8f5e0a5c8521",
   "metadata": {},
   "outputs": [],
   "source": [
    "# Notwendige Installationen (nur einmal ausführen)\n",
    "!pip install selenium  # Für die Steuerung des Browsers per Code\n",
    "!pip install undetected-chromedriver  # Um Websiten zu scrapen, die Bot-Erkennung haben\n",
    "!pip install webdriver-manager  # Automatisches Herunterladen des passenden ChromeDrivers\n",
    "!pip install openpyxl  # Ermöglicht das Lesen/Schreiben von Excel-Dateien"
   ]
  },
  {
   "cell_type": "code",
   "execution_count": null,
   "id": "84b59ff7-2a08-4fd9-9d1e-5851c2c3fa0e",
   "metadata": {},
   "outputs": [],
   "source": [
    "#  Erstelle einen Chrome-Browser im Hintergund (headless)\n",
    "import undetected_chromedriver as uc\n",
    "driver = uc.Chrome(headless=True, use_subprocess=False)"
   ]
  },
  {
   "cell_type": "code",
   "execution_count": null,
   "id": "9e3741e6-a9c2-4abc-866f-c5a34144766d",
   "metadata": {},
   "outputs": [],
   "source": [
    "# weitere Importe\n",
    "import time\n",
    "import pandas as pd\n",
    "from bs4 import BeautifulSoup  # für HTML-Parsing\n",
    "from selenium import webdriver\n",
    "from selenium.webdriver.chrome.options import Options\n",
    "from selenium.webdriver.chrome.service import Service\n",
    "from webdriver_manager.chrome import ChromeDriverManager"
   ]
  },
  {
   "cell_type": "code",
   "execution_count": null,
   "id": "bc4a71be-757e-454b-9d9e-2c3f40da5a3b",
   "metadata": {},
   "outputs": [],
   "source": [
    "# Dateien und Konfiguration\n",
    "eingabe_datei = \"tandfonline_journals.xlsx\"  # Excel-Datei mit URLs\n",
    "ziel_datei = \"tandfonline_journals_final.xlsx\"  # Zieldatei mit den extrahierten Metriken\n",
    "delay = 5  # Wartezeit in Sekunden zwischen den Anfragen\n",
    "\n",
    "# Lade die Eingabedatei mit Pandas\n",
    "df = pd.read_excel(eingabe_datei)"
   ]
  },
  {
   "cell_type": "code",
   "execution_count": null,
   "id": "bf4efd22-ce57-4bc5-bab8-1eb46df6a4bf",
   "metadata": {},
   "outputs": [],
   "source": [
    "# Funktion zum Erstellen eines Selenium Webdrivers mit Chrome\n",
    "def create_driver():\n",
    "    options = Options()\n",
    "    options.add_argument(\"--no-sandbox\")  # verhindert Sandbox-Probleme (v.a. bei Servern)\n",
    "    options.add_argument(\"--window-size=1920,1080\")  # setzt Fenstergröße\n",
    "    driver = webdriver.Chrome(service=Service(ChromeDriverManager().install()), options=options)\n",
    "    return driver"
   ]
  },
  {
   "cell_type": "code",
   "execution_count": null,
   "id": "047abecf-45a5-4f8c-8b37-dbdbeafec1c8",
   "metadata": {},
   "outputs": [],
   "source": [
    "# Funktion zum Extrahieren der Metriken von einer Journal-Seite\n",
    "def extract_metrics_with_selenium(url):\n",
    "    driver = create_driver()  # Erzeuge einen neuen Browser für jede URL\n",
    "    try:\n",
    "        driver.get(url)   # Lade die Website\n",
    "        time.sleep(5)  # Zeit zum vollständigen Laden der Seite\n",
    "\n",
    "        # HTML der Seite analysieren\n",
    "        soup = BeautifulSoup(driver.page_source, \"html.parser\")\n",
    "\n",
    "        # Suche nach dem Container, der die Metriken enthält\n",
    "        container = soup.find(\"div\", class_=\"journalMetrics\")\n",
    "        if not container:\n",
    "            return {\"Fehler\": \"journalMetrics-Container nicht gefunden\"}\n",
    "\n",
    "        metrics = {}\n",
    "\n",
    "        # Usage-Metrik extrahieren\n",
    "        usage_div = container.find(\"div\", class_=\"usage\")\n",
    "        if usage_div:\n",
    "            li = usage_div.find(\"li\")\n",
    "            if li:\n",
    "                strong_tag = li.find(\"strong\")\n",
    "                if strong_tag:\n",
    "                    value = strong_tag.get_text(strip=True)  # Der Wert (z.B. \"100.000 Downloads\") \n",
    "                    key = li.get_text(strip=True).replace(value, \"\").strip()  # Der Schlüssel (z.B. \"Usage\")\n",
    "                    metrics[key] = value\n",
    "                else:\n",
    "                    metrics[\"Usage\"] = li.get_text(strip=True)\n",
    "        # Citation-Metriken extrahieren\n",
    "        citation_div = container.find(\"div\", class_=\"citation-metrics\")\n",
    "        if citation_div:\n",
    "            for li in citation_div.find_all(\"li\"):\n",
    "                strong_tag = li.find(\"strong\")\n",
    "                if strong_tag:\n",
    "                    value = strong_tag.get_text(strip=True)\n",
    "                    key = li.get_text(strip=True).replace(value, \"\").strip()\n",
    "                    metrics[key] = value\n",
    "                else:\n",
    "                    metrics[\"Citation\"] = li.get_text(strip=True)\n",
    "\n",
    "        # Speed/Acceptance-Metriken extrahieren\n",
    "        speed_div = container.find(\"div\", class_=\"speed\")\n",
    "        if speed_div:\n",
    "            for li in speed_div.find_all(\"li\"):\n",
    "                strong_tag = li.find(\"strong\")\n",
    "                if strong_tag:\n",
    "                    value = strong_tag.get_text(strip=True)\n",
    "                    key = li.get_text(strip=True).replace(value, \"\").strip()\n",
    "                    metrics[key] = value\n",
    "                else:\n",
    "                    metrics[\"Speed/Acceptance\"] = li.get_text(strip=True)\n",
    "\n",
    "        return metrics  # Rückgabe der gesammelten Metriken als Dictionary\n",
    "\n",
    "    except Exception as e:\n",
    "        return {\"Fehler\": str(e)}  # Rückgabe einer Fehlermeldung bei Problemen\n",
    "\n",
    "    finally:\n",
    "        driver.quit()  # Browser schließen, egal ob Erfolg oder Fehler"
   ]
  },
  {
   "cell_type": "code",
   "execution_count": null,
   "id": "2d8a87fc-328c-459e-99fc-1b6d80d5a772",
   "metadata": {},
   "outputs": [],
   "source": [
    "# Liste zum Speichern aller extrahierten Metriken\n",
    "alle_metrics = []\n",
    "\n",
    "# Iteriere durch jede Zeile der Excel-Datei\n",
    "for i, row in df.iterrows():\n",
    "    url = row.get(\"URL\")  # Hole die URL aus der Spalte \"URL\"\n",
    "    print(f\"[{i+1}/{len(df)}] Scraping: {url}\")\n",
    "    metrics = extract_metrics_with_selenium(url)  # Extrahiere Metriken für diese URL\n",
    "    alle_metrics.append(metrics)  # Füge das Ergebnis zur Liste hinzu\n",
    "    print(f\"Fertig mit URL {i+1}. Warte {delay} Sekunden...\\n\")\n",
    "    time.sleep(delay)  # Verzögerung zwischen den Anfragen, um den Server nicht zu überlasten"
   ]
  },
  {
   "cell_type": "code",
   "execution_count": null,
   "id": "eb54d946-263c-462e-b4f5-2b17e0b2a67d",
   "metadata": {},
   "outputs": [],
   "source": [
    "# Erstelle ein neues DataFrame aus den extrahierten Metriken\n",
    "metrics_df = pd.DataFrame(alle_metrics)\n",
    "# Kombiniere ursprüngliche Daten mit den neuen Metriken\n",
    "df_out = pd.concat([df, metrics_df], axis=1)\n",
    "# Speichere das Ergebnis in eine neue Excel-Datei\n",
    "df_out.to_excel(ziel_datei, index=False)\n",
    "\n",
    "print(f\"Fertig! Datei gespeichert unter: {ziel_datei}\")"
   ]
  },
  {
   "cell_type": "code",
   "execution_count": null,
   "id": "de2b2400-5121-438b-a489-4d4664cd1824",
   "metadata": {},
   "outputs": [],
   "source": []
  }
 ],
 "metadata": {
  "kernelspec": {
   "display_name": "Python 3 (ipykernel)",
   "language": "python",
   "name": "python3"
  },
  "language_info": {
   "codemirror_mode": {
    "name": "ipython",
    "version": 3
   },
   "file_extension": ".py",
   "mimetype": "text/x-python",
   "name": "python",
   "nbconvert_exporter": "python",
   "pygments_lexer": "ipython3",
   "version": "3.12.9"
  }
 },
 "nbformat": 4,
 "nbformat_minor": 5
}
