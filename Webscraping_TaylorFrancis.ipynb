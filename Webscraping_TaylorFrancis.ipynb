{
 "cells": [
  {
   "cell_type": "code",
   "execution_count": 1,
   "id": "63cde56d-6144-419f-b1f6-8f5e0a5c8521",
   "metadata": {},
   "outputs": [
    {
     "name": "stdout",
     "output_type": "stream",
     "text": [
      "Requirement already satisfied: selenium in c:\\users\\evi_r\\miniforge3\\lib\\site-packages (4.34.2)\n",
      "Requirement already satisfied: urllib3~=2.5.0 in c:\\users\\evi_r\\miniforge3\\lib\\site-packages (from urllib3[socks]~=2.5.0->selenium) (2.5.0)\n",
      "Requirement already satisfied: trio~=0.30.0 in c:\\users\\evi_r\\miniforge3\\lib\\site-packages (from selenium) (0.30.0)\n",
      "Requirement already satisfied: trio-websocket~=0.12.2 in c:\\users\\evi_r\\miniforge3\\lib\\site-packages (from selenium) (0.12.2)\n",
      "Requirement already satisfied: certifi>=2025.6.15 in c:\\users\\evi_r\\miniforge3\\lib\\site-packages (from selenium) (2025.8.3)\n",
      "Requirement already satisfied: typing_extensions~=4.14.0 in c:\\users\\evi_r\\miniforge3\\lib\\site-packages (from selenium) (4.14.1)\n",
      "Requirement already satisfied: websocket-client~=1.8.0 in c:\\users\\evi_r\\miniforge3\\lib\\site-packages (from selenium) (1.8.0)\n",
      "Requirement already satisfied: attrs>=23.2.0 in c:\\users\\evi_r\\miniforge3\\lib\\site-packages (from trio~=0.30.0->selenium) (25.3.0)\n",
      "Requirement already satisfied: sortedcontainers in c:\\users\\evi_r\\miniforge3\\lib\\site-packages (from trio~=0.30.0->selenium) (2.4.0)\n",
      "Requirement already satisfied: idna in c:\\users\\evi_r\\miniforge3\\lib\\site-packages (from trio~=0.30.0->selenium) (3.10)\n",
      "Requirement already satisfied: outcome in c:\\users\\evi_r\\miniforge3\\lib\\site-packages (from trio~=0.30.0->selenium) (1.3.0.post0)\n",
      "Requirement already satisfied: sniffio>=1.3.0 in c:\\users\\evi_r\\miniforge3\\lib\\site-packages (from trio~=0.30.0->selenium) (1.3.1)\n",
      "Requirement already satisfied: cffi>=1.14 in c:\\users\\evi_r\\miniforge3\\lib\\site-packages (from trio~=0.30.0->selenium) (1.17.1)\n",
      "Requirement already satisfied: wsproto>=0.14 in c:\\users\\evi_r\\miniforge3\\lib\\site-packages (from trio-websocket~=0.12.2->selenium) (1.2.0)\n",
      "Requirement already satisfied: pysocks!=1.5.7,<2.0,>=1.5.6 in c:\\users\\evi_r\\miniforge3\\lib\\site-packages (from urllib3[socks]~=2.5.0->selenium) (1.7.1)\n",
      "Requirement already satisfied: pycparser in c:\\users\\evi_r\\miniforge3\\lib\\site-packages (from cffi>=1.14->trio~=0.30.0->selenium) (2.22)\n",
      "Requirement already satisfied: h11<1,>=0.9.0 in c:\\users\\evi_r\\miniforge3\\lib\\site-packages (from wsproto>=0.14->trio-websocket~=0.12.2->selenium) (0.14.0)\n",
      "Requirement already satisfied: undetected-chromedriver in c:\\users\\evi_r\\miniforge3\\lib\\site-packages (3.5.5)\n",
      "Requirement already satisfied: selenium>=4.9.0 in c:\\users\\evi_r\\miniforge3\\lib\\site-packages (from undetected-chromedriver) (4.34.2)\n",
      "Requirement already satisfied: requests in c:\\users\\evi_r\\miniforge3\\lib\\site-packages (from undetected-chromedriver) (2.32.3)\n",
      "Requirement already satisfied: websockets in c:\\users\\evi_r\\miniforge3\\lib\\site-packages (from undetected-chromedriver) (15.0.1)\n",
      "Requirement already satisfied: urllib3~=2.5.0 in c:\\users\\evi_r\\miniforge3\\lib\\site-packages (from urllib3[socks]~=2.5.0->selenium>=4.9.0->undetected-chromedriver) (2.5.0)\n",
      "Requirement already satisfied: trio~=0.30.0 in c:\\users\\evi_r\\miniforge3\\lib\\site-packages (from selenium>=4.9.0->undetected-chromedriver) (0.30.0)\n",
      "Requirement already satisfied: trio-websocket~=0.12.2 in c:\\users\\evi_r\\miniforge3\\lib\\site-packages (from selenium>=4.9.0->undetected-chromedriver) (0.12.2)\n",
      "Requirement already satisfied: certifi>=2025.6.15 in c:\\users\\evi_r\\miniforge3\\lib\\site-packages (from selenium>=4.9.0->undetected-chromedriver) (2025.8.3)\n",
      "Requirement already satisfied: typing_extensions~=4.14.0 in c:\\users\\evi_r\\miniforge3\\lib\\site-packages (from selenium>=4.9.0->undetected-chromedriver) (4.14.1)\n",
      "Requirement already satisfied: websocket-client~=1.8.0 in c:\\users\\evi_r\\miniforge3\\lib\\site-packages (from selenium>=4.9.0->undetected-chromedriver) (1.8.0)\n",
      "Requirement already satisfied: charset_normalizer<4,>=2 in c:\\users\\evi_r\\miniforge3\\lib\\site-packages (from requests->undetected-chromedriver) (3.4.1)\n",
      "Requirement already satisfied: idna<4,>=2.5 in c:\\users\\evi_r\\miniforge3\\lib\\site-packages (from requests->undetected-chromedriver) (3.10)\n",
      "Requirement already satisfied: attrs>=23.2.0 in c:\\users\\evi_r\\miniforge3\\lib\\site-packages (from trio~=0.30.0->selenium>=4.9.0->undetected-chromedriver) (25.3.0)\n",
      "Requirement already satisfied: sortedcontainers in c:\\users\\evi_r\\miniforge3\\lib\\site-packages (from trio~=0.30.0->selenium>=4.9.0->undetected-chromedriver) (2.4.0)\n",
      "Requirement already satisfied: outcome in c:\\users\\evi_r\\miniforge3\\lib\\site-packages (from trio~=0.30.0->selenium>=4.9.0->undetected-chromedriver) (1.3.0.post0)\n",
      "Requirement already satisfied: sniffio>=1.3.0 in c:\\users\\evi_r\\miniforge3\\lib\\site-packages (from trio~=0.30.0->selenium>=4.9.0->undetected-chromedriver) (1.3.1)\n",
      "Requirement already satisfied: cffi>=1.14 in c:\\users\\evi_r\\miniforge3\\lib\\site-packages (from trio~=0.30.0->selenium>=4.9.0->undetected-chromedriver) (1.17.1)\n",
      "Requirement already satisfied: wsproto>=0.14 in c:\\users\\evi_r\\miniforge3\\lib\\site-packages (from trio-websocket~=0.12.2->selenium>=4.9.0->undetected-chromedriver) (1.2.0)\n",
      "Requirement already satisfied: pysocks!=1.5.7,<2.0,>=1.5.6 in c:\\users\\evi_r\\miniforge3\\lib\\site-packages (from urllib3[socks]~=2.5.0->selenium>=4.9.0->undetected-chromedriver) (1.7.1)\n",
      "Requirement already satisfied: pycparser in c:\\users\\evi_r\\miniforge3\\lib\\site-packages (from cffi>=1.14->trio~=0.30.0->selenium>=4.9.0->undetected-chromedriver) (2.22)\n",
      "Requirement already satisfied: h11<1,>=0.9.0 in c:\\users\\evi_r\\miniforge3\\lib\\site-packages (from wsproto>=0.14->trio-websocket~=0.12.2->selenium>=4.9.0->undetected-chromedriver) (0.14.0)\n",
      "Requirement already satisfied: webdriver-manager in c:\\users\\evi_r\\miniforge3\\lib\\site-packages (4.0.2)\n",
      "Requirement already satisfied: requests in c:\\users\\evi_r\\miniforge3\\lib\\site-packages (from webdriver-manager) (2.32.3)\n",
      "Requirement already satisfied: python-dotenv in c:\\users\\evi_r\\miniforge3\\lib\\site-packages (from webdriver-manager) (1.1.1)\n",
      "Requirement already satisfied: packaging in c:\\users\\evi_r\\miniforge3\\lib\\site-packages (from webdriver-manager) (24.2)\n",
      "Requirement already satisfied: charset_normalizer<4,>=2 in c:\\users\\evi_r\\miniforge3\\lib\\site-packages (from requests->webdriver-manager) (3.4.1)\n",
      "Requirement already satisfied: idna<4,>=2.5 in c:\\users\\evi_r\\miniforge3\\lib\\site-packages (from requests->webdriver-manager) (3.10)\n",
      "Requirement already satisfied: urllib3<3,>=1.21.1 in c:\\users\\evi_r\\miniforge3\\lib\\site-packages (from requests->webdriver-manager) (2.5.0)\n",
      "Requirement already satisfied: certifi>=2017.4.17 in c:\\users\\evi_r\\miniforge3\\lib\\site-packages (from requests->webdriver-manager) (2025.8.3)\n",
      "Requirement already satisfied: openpyxl in c:\\users\\evi_r\\miniforge3\\lib\\site-packages (3.1.5)\n",
      "Requirement already satisfied: et-xmlfile in c:\\users\\evi_r\\miniforge3\\lib\\site-packages (from openpyxl) (2.0.0)\n"
     ]
    }
   ],
   "source": [
    "# Notwendige Installationen (nur einmal ausführen)\n",
    "!pip install selenium\n",
    "!pip install undetected-chromedriver\n",
    "!pip install webdriver-manager\n",
    "!pip install openpyxl"
   ]
  },
  {
   "cell_type": "code",
   "execution_count": 2,
   "id": "84b59ff7-2a08-4fd9-9d1e-5851c2c3fa0e",
   "metadata": {},
   "outputs": [],
   "source": [
    "import undetected_chromedriver as uc\n",
    "driver = uc.Chrome(headless=True, use_subprocess=False)"
   ]
  },
  {
   "cell_type": "code",
   "execution_count": 3,
   "id": "9e3741e6-a9c2-4abc-866f-c5a34144766d",
   "metadata": {},
   "outputs": [],
   "source": [
    "# Importe\n",
    "import time\n",
    "import pandas as pd\n",
    "from bs4 import BeautifulSoup\n",
    "from selenium import webdriver\n",
    "from selenium.webdriver.chrome.options import Options\n",
    "from selenium.webdriver.chrome.service import Service\n",
    "from webdriver_manager.chrome import ChromeDriverManager"
   ]
  },
  {
   "cell_type": "code",
   "execution_count": 4,
   "id": "bc4a71be-757e-454b-9d9e-2c3f40da5a3b",
   "metadata": {},
   "outputs": [],
   "source": [
    "# Dateien und Konfiguration\n",
    "eingabe_datei = \"tandfonline_journals.xlsx\"\n",
    "ziel_datei = \"tandfonline_journals_final.xlsx\"\n",
    "delay = 5  # Sekunden zwischen Anfragen\n",
    "\n",
    "# Excel-Datei einlesen\n",
    "df = pd.read_excel(eingabe_datei)"
   ]
  },
  {
   "cell_type": "code",
   "execution_count": 5,
   "id": "bf4efd22-ce57-4bc5-bab8-1eb46df6a4bf",
   "metadata": {},
   "outputs": [],
   "source": [
    "# Funktion zum Erstellen eines Headless Chrome Browsers\n",
    "def create_driver():\n",
    "    options = Options()\n",
    "    options.add_argument(\"--no-sandbox\")\n",
    "    options.add_argument(\"--disable-dev-shm-usage\")\n",
    "    options.add_argument(\"--window-size=1920,1080\")\n",
    "    driver = webdriver.Chrome(service=Service(ChromeDriverManager().install()), options=options)\n",
    "    return driver"
   ]
  },
  {
   "cell_type": "code",
   "execution_count": 6,
   "id": "047abecf-45a5-4f8c-8b37-dbdbeafec1c8",
   "metadata": {},
   "outputs": [],
   "source": [
    "# Funktion zum Extrahieren der Metriken von einer Journal-Seite\n",
    "def extract_metrics_with_selenium(url):\n",
    "    driver = create_driver()\n",
    "    try:\n",
    "        driver.get(url)\n",
    "        time.sleep(5)  # Zeit zum vollständigen Laden der Seite\n",
    "\n",
    "        soup = BeautifulSoup(driver.page_source, \"html.parser\")\n",
    "        container = soup.find(\"div\", class_=\"journalMetrics\")\n",
    "        if not container:\n",
    "            return {\"Fehler\": \"journalMetrics-Container nicht gefunden\"}\n",
    "\n",
    "        metrics = {}\n",
    "\n",
    "        # Usage-Metrik\n",
    "        usage_div = container.find(\"div\", class_=\"usage\")\n",
    "        if usage_div:\n",
    "            li = usage_div.find(\"li\")\n",
    "            if li:\n",
    "                strong_tag = li.find(\"strong\")\n",
    "                if strong_tag:\n",
    "                    value = strong_tag.get_text(strip=True)\n",
    "                    key = li.get_text(strip=True).replace(value, \"\").strip()\n",
    "                    metrics[key] = value\n",
    "                else:\n",
    "                    metrics[\"Usage\"] = li.get_text(strip=True)\n",
    "        # Citation-Metriken\n",
    "        citation_div = container.find(\"div\", class_=\"citation-metrics\")\n",
    "        if citation_div:\n",
    "            for li in citation_div.find_all(\"li\"):\n",
    "                strong_tag = li.find(\"strong\")\n",
    "                if strong_tag:\n",
    "                    value = strong_tag.get_text(strip=True)\n",
    "                    key = li.get_text(strip=True).replace(value, \"\").strip()\n",
    "                    metrics[key] = value\n",
    "                else:\n",
    "                    metrics[\"Citation\"] = li.get_text(strip=True)\n",
    "\n",
    "        # Speed/Acceptance-Metriken\n",
    "        speed_div = container.find(\"div\", class_=\"speed\")\n",
    "        if speed_div:\n",
    "            for li in speed_div.find_all(\"li\"):\n",
    "                strong_tag = li.find(\"strong\")\n",
    "                if strong_tag:\n",
    "                    value = strong_tag.get_text(strip=True)\n",
    "                    key = li.get_text(strip=True).replace(value, \"\").strip()\n",
    "                    metrics[key] = value\n",
    "                else:\n",
    "                    metrics[\"Speed/Acceptance\"] = li.get_text(strip=True)\n",
    "\n",
    "        return metrics\n",
    "\n",
    "    except Exception as e:\n",
    "        return {\"Fehler\": str(e)}\n",
    "\n",
    "    finally:\n",
    "        driver.quit()"
   ]
  },
  {
   "cell_type": "code",
   "execution_count": 7,
   "id": "2d8a87fc-328c-459e-99fc-1b6d80d5a772",
   "metadata": {},
   "outputs": [
    {
     "name": "stdout",
     "output_type": "stream",
     "text": [
      "[1/6] Scraping: https://www.tandfonline.com/journals/rdsp20/about-this-journal#journal-metrics\n",
      "Fertig mit URL 1. Warte 5 Sekunden...\n",
      "\n",
      "[2/6] Scraping: https://www.tandfonline.com/journals/ceps20/about-this-journal#journal-metrics\n",
      "Fertig mit URL 2. Warte 5 Sekunden...\n",
      "\n",
      "[3/6] Scraping: https://www.tandfonline.com/journals/cjoe20/about-this-journal#journal-metrics\n",
      "Fertig mit URL 3. Warte 5 Sekunden...\n",
      "\n",
      "[4/6] Scraping: https://www.tandfonline.com/journals/nens20/about-this-journal#journal-metrics\n",
      "Fertig mit URL 4. Warte 5 Sekunden...\n",
      "\n",
      "[5/6] Scraping: https://www.tandfonline.com/journals/rptp20/about-this-journal#journal-metrics\n",
      "Fertig mit URL 5. Warte 5 Sekunden...\n",
      "\n",
      "[6/6] Scraping: https://www.tandfonline.com/journals/tsus20/about-this-journal#journal-metrics\n",
      "Fertig mit URL 6. Warte 5 Sekunden...\n",
      "\n"
     ]
    }
   ],
   "source": [
    "# Alle URLs verarbeiten und Metriken sammeln\n",
    "alle_metrics = []\n",
    "\n",
    "for i, row in df.iterrows():\n",
    "    url = row.get(\"URL\")\n",
    "    print(f\"[{i+1}/{len(df)}] Scraping: {url}\")\n",
    "    metrics = extract_metrics_with_selenium(url)\n",
    "    alle_metrics.append(metrics)\n",
    "    print(f\"Fertig mit URL {i+1}. Warte {delay} Sekunden...\\n\")\n",
    "    time.sleep(delay)"
   ]
  },
  {
   "cell_type": "code",
   "execution_count": 8,
   "id": "eb54d946-263c-462e-b4f5-2b17e0b2a67d",
   "metadata": {},
   "outputs": [
    {
     "name": "stdout",
     "output_type": "stream",
     "text": [
      "Fertig! Datei gespeichert unter: tandfonline_journals_final.xlsx\n"
     ]
    }
   ],
   "source": [
    "# Ergebnisse speichern\n",
    "metrics_df = pd.DataFrame(alle_metrics)\n",
    "df_out = pd.concat([df, metrics_df], axis=1)\n",
    "df_out.to_excel(ziel_datei, index=False)\n",
    "\n",
    "print(f\"Fertig! Datei gespeichert unter: {ziel_datei}\")"
   ]
  },
  {
   "cell_type": "code",
   "execution_count": null,
   "id": "de2b2400-5121-438b-a489-4d4664cd1824",
   "metadata": {},
   "outputs": [],
   "source": []
  }
 ],
 "metadata": {
  "kernelspec": {
   "display_name": "Python 3 (ipykernel)",
   "language": "python",
   "name": "python3"
  },
  "language_info": {
   "codemirror_mode": {
    "name": "ipython",
    "version": 3
   },
   "file_extension": ".py",
   "mimetype": "text/x-python",
   "name": "python",
   "nbconvert_exporter": "python",
   "pygments_lexer": "ipython3",
   "version": "3.12.9"
  }
 },
 "nbformat": 4,
 "nbformat_minor": 5
}
